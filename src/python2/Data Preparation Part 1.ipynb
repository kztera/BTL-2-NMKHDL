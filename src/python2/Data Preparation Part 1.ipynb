{
 "cells": [
  {
   "cell_type": "markdown",
   "id": "959c82a7",
   "metadata": {},
   "source": [
    "#Modules"
   ]
  },
  {
   "cell_type": "code",
   "execution_count": 1,
   "id": "416ed895",
   "metadata": {},
   "outputs": [],
   "source": [
    "from elasticsearch import Elasticsearch\n",
    "import json"
   ]
  },
  {
   "cell_type": "markdown",
   "id": "01e40914",
   "metadata": {},
   "source": [
    "#ElasticSearch"
   ]
  },
  {
   "cell_type": "markdown",
   "id": "eb560317",
   "metadata": {},
   "source": [
    "##Index"
   ]
  },
  {
   "cell_type": "code",
   "execution_count": null,
   "id": "6d0d0e56",
   "metadata": {},
   "outputs": [],
   "source": [
    "#the index name Elasticsearch client used to communicate with the database\n",
    "client = Elasticsearch()\n",
    "indexName = \"gastronomical\"\n",
    "docType = 'recipes'"
   ]
  },
  {
   "cell_type": "code",
   "execution_count": null,
   "id": "16946404",
   "metadata": {},
   "outputs": [],
   "source": [
    "# create an index (only once)\n",
    "client.indices.create(index=indexName)"
   ]
  },
  {
   "cell_type": "markdown",
   "id": "88c17f3d",
   "metadata": {},
   "source": [
    "##Document"
   ]
  },
  {
   "cell_type": "code",
   "execution_count": null,
   "id": "74022795",
   "metadata": {},
   "outputs": [],
   "source": [
    "# location of recipe json file: change this to match your own setup!\n",
    "file_name = ''"
   ]
  },
  {
   "cell_type": "code",
   "execution_count": null,
   "id": "3f9f913d",
   "metadata": {},
   "outputs": [],
   "source": [
    "#Create document mapping\n",
    "recipeMapping = {\n",
    "        'properties': {\n",
    "            'name': {'type': 'string'},\n",
    "            'ingredients': {'type': 'string'}\n",
    "        }\n",
    "    }\n",
    "client.indices.put_mapping(index=indexName,doc_type=docType,body=recipeMapping )"
   ]
  },
  {
   "cell_type": "markdown",
   "id": "9e15fcc0",
   "metadata": {},
   "source": [
    "#Recipes Data"
   ]
  },
  {
   "cell_type": "code",
   "execution_count": null,
   "id": "e11a6401",
   "metadata": {},
   "outputs": [],
   "source": [
    "#Load Json file\n",
    "with open(file_name) as data_file:\n",
    "    recipeData = json.load(data_file)"
   ]
  },
  {
   "cell_type": "markdown",
   "id": "6b5d903b",
   "metadata": {},
   "source": [
    "#Indexing"
   ]
  },
  {
   "cell_type": "code",
   "execution_count": null,
   "id": "27e01cc9",
   "metadata": {},
   "outputs": [],
   "source": [
    "#Index the recipes\n",
    "for recipe in recipeData:\n",
    "    print recipe.keys()\n",
    "    print recipe['_id'].keys()\n",
    "    client.index(index=indexName, doc_type=docType,id = recipe['_id']['$oid'], body={\"name\": recipe['name'], \"ingredients\":recipe['ingredients']})"
   ]
  }
 ],
 "metadata": {
  "kernelspec": {
   "display_name": "Python 3 (ipykernel)",
   "language": "python",
   "name": "python3"
  },
  "language_info": {
   "codemirror_mode": {
    "name": "ipython",
    "version": 3
   },
   "file_extension": ".py",
   "mimetype": "text/x-python",
   "name": "python",
   "nbconvert_exporter": "python",
   "pygments_lexer": "ipython3",
   "version": "3.11.3"
  }
 },
 "nbformat": 4,
 "nbformat_minor": 1
}
